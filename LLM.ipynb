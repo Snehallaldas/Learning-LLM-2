{
  "cells": [
    {
      "cell_type": "markdown",
      "id": "8dcafa91-d8b1-4283-9652-ee9ce7d00e34",
      "metadata": {
        "id": "8dcafa91-d8b1-4283-9652-ee9ce7d00e34"
      },
      "source": [
        "## 1st Step\n",
        "### Tokenizing the Entire story\n",
        "### Story used :- *The Verdict*"
      ]
    },
    {
      "cell_type": "code",
      "execution_count": 30,
      "id": "77838885-b8a0-483c-9096-18e85c8f9b3f",
      "metadata": {
        "colab": {
          "base_uri": "https://localhost:8080/"
        },
        "id": "77838885-b8a0-483c-9096-18e85c8f9b3f",
        "outputId": "21a068ee-bac0-448c-8c1c-e948944412f1"
      },
      "outputs": [
        {
          "output_type": "stream",
          "name": "stdout",
          "text": [
            "Total number of character: 20479\n",
            "I HAD always thought Jack Gisburn rather a cheap genius--though a good fellow enough--so it was no \n"
          ]
        }
      ],
      "source": [
        "with open(\"the-verdict.txt\",\"r\" , encoding=\"utf-8\") as f:\n",
        "    raw_text = f.read()\n",
        "\n",
        "print(\"Total number of character:\", len(raw_text))\n",
        "print(raw_text[:99])"
      ]
    },
    {
      "cell_type": "markdown",
      "id": "483c4ea3-ce08-4834-a46b-c57b05ba9cb8",
      "metadata": {
        "id": "483c4ea3-ce08-4834-a46b-c57b05ba9cb8"
      },
      "source": [
        "### print(raw_text[:99]) is use to print first 100 characters of the sentence"
      ]
    },
    {
      "cell_type": "markdown",
      "id": "0176eb78-29e9-41bd-82ab-1d4fd3fcdbc5",
      "metadata": {
        "id": "0176eb78-29e9-41bd-82ab-1d4fd3fcdbc5"
      },
      "source": [
        "### *We are using Regular Expresion or re library to splitting the data into tokens*"
      ]
    },
    {
      "cell_type": "code",
      "execution_count": 31,
      "id": "4a805b33-502a-4b0c-9608-becba7642a47",
      "metadata": {
        "colab": {
          "base_uri": "https://localhost:8080/"
        },
        "id": "4a805b33-502a-4b0c-9608-becba7642a47",
        "outputId": "6195a00a-439e-4de7-efa9-e71fecdcde9e"
      },
      "outputs": [
        {
          "output_type": "stream",
          "name": "stdout",
          "text": [
            "['Hello,', ' ', 'world.', ' ', 'This', ' ', 'is', ' ', 'a', ' ', 'test.']\n"
          ]
        }
      ],
      "source": [
        "import re\n",
        "text = \"Hello, world. This is a test.\"\n",
        "result = re.split(r'(\\s)', text)\n",
        "print(result)"
      ]
    },
    {
      "cell_type": "code",
      "execution_count": 32,
      "id": "278e3de7-07b9-476b-8592-6cc42d61f099",
      "metadata": {
        "colab": {
          "base_uri": "https://localhost:8080/"
        },
        "id": "278e3de7-07b9-476b-8592-6cc42d61f099",
        "outputId": "9604b8cf-1e7d-4f17-8c82-2554c4dd809a"
      },
      "outputs": [
        {
          "output_type": "stream",
          "name": "stdout",
          "text": [
            "['Hello', ',', '', ' ', 'world', '.', '', ' ', 'This', ' ', 'is', ' ', 'a', ' ', 'test', '.', '']\n"
          ]
        }
      ],
      "source": [
        "result = re.split(r'([,.]|\\s)', text) ## We are adding . and , as diffrent tokken\n",
        "print(result)"
      ]
    },
    {
      "cell_type": "code",
      "execution_count": 33,
      "id": "dc436094-cc32-4183-86fe-5dcb099e3702",
      "metadata": {
        "colab": {
          "base_uri": "https://localhost:8080/"
        },
        "id": "dc436094-cc32-4183-86fe-5dcb099e3702",
        "outputId": "f72bbad3-7df3-4570-d1ef-7a2de5523a33"
      },
      "outputs": [
        {
          "output_type": "stream",
          "name": "stdout",
          "text": [
            "['Hello', ',', 'world', '.', 'This', 'is', 'a', 'test', '.']\n"
          ]
        }
      ],
      "source": [
        "result = [item for item in result if item.strip()] ## Removing the witespaces\n",
        "print(result)"
      ]
    },
    {
      "cell_type": "markdown",
      "id": "3528db81-cd7f-4072-9e46-6a21564a5251",
      "metadata": {
        "id": "3528db81-cd7f-4072-9e46-6a21564a5251"
      },
      "source": [
        "### Removing the witespaces is not always good as identation is also important in training the LLM . But here we are removing it to save spave and reduce the computation power"
      ]
    },
    {
      "cell_type": "code",
      "execution_count": 34,
      "id": "6cdc3662-7e3b-4167-8320-5c8921c1706b",
      "metadata": {
        "colab": {
          "base_uri": "https://localhost:8080/"
        },
        "id": "6cdc3662-7e3b-4167-8320-5c8921c1706b",
        "outputId": "72c9e0cb-089e-4294-c564-0d73dc5e2fa5"
      },
      "outputs": [
        {
          "output_type": "stream",
          "name": "stdout",
          "text": [
            "['Hello', ',', 'world', '.', 'Is', 'this', '--', 'a', 'test', '?']\n"
          ]
        }
      ],
      "source": [
        "text = \"Hello, world. Is this-- a test?\"\n",
        "result = re.split(r'([,.:;?_!\"()\\']|--|\\s)', text)\n",
        "result = [item.strip() for item in result if item.strip()]\n",
        "print(result)"
      ]
    },
    {
      "cell_type": "code",
      "execution_count": 35,
      "id": "c384e84c-e450-4fee-9523-7ec143f8fe36",
      "metadata": {
        "colab": {
          "base_uri": "https://localhost:8080/"
        },
        "id": "c384e84c-e450-4fee-9523-7ec143f8fe36",
        "outputId": "a441d37d-3249-4b43-d465-7e1a8e7573c9"
      },
      "outputs": [
        {
          "output_type": "stream",
          "name": "stdout",
          "text": [
            "['I', 'HAD', 'always', 'thought', 'Jack', 'Gisburn', 'rather', 'a', 'cheap', 'genius', '--', 'though', 'a', 'good', 'fellow', 'enough', '--', 'so', 'it', 'was', 'no', 'great', 'surprise', 'to', 'me', 'to', 'hear', 'that', ',', 'in']\n"
          ]
        }
      ],
      "source": [
        "preprocessed = re.split(r'([,.:;?_!\"()\\']|--|\\s)', raw_text)\n",
        "preprocessed = [item.strip() for item in preprocessed if item.strip()]\n",
        "print(preprocessed[:30])"
      ]
    },
    {
      "cell_type": "code",
      "execution_count": 36,
      "id": "bd6ea6d2-7be5-44e7-b002-440616f50007",
      "metadata": {
        "colab": {
          "base_uri": "https://localhost:8080/"
        },
        "id": "bd6ea6d2-7be5-44e7-b002-440616f50007",
        "outputId": "cbdf0363-1b26-44ad-b702-6fa61da5abbb"
      },
      "outputs": [
        {
          "output_type": "stream",
          "name": "stdout",
          "text": [
            "4690\n"
          ]
        }
      ],
      "source": [
        "print(len(preprocessed))"
      ]
    },
    {
      "cell_type": "markdown",
      "id": "8dd08961-534e-4398-991e-00e1e69d2fbd",
      "metadata": {
        "id": "8dd08961-534e-4398-991e-00e1e69d2fbd"
      },
      "source": [
        "## 2nd Step\n",
        "### Converting tokens into token id's\n",
        "Vocabulary are created during converting tokens into token id's. In this vocabulary words are given number according to the alphabetical order . This number or integer is known as tokenID"
      ]
    },
    {
      "cell_type": "code",
      "execution_count": 37,
      "id": "1b67f9e4-40ac-4a92-8074-83d98615e841",
      "metadata": {
        "colab": {
          "base_uri": "https://localhost:8080/"
        },
        "id": "1b67f9e4-40ac-4a92-8074-83d98615e841",
        "outputId": "7df3d803-3086-465c-a39c-c958025f03ec"
      },
      "outputs": [
        {
          "output_type": "stream",
          "name": "stdout",
          "text": [
            "1130\n"
          ]
        }
      ],
      "source": [
        "all_word = sorted(set(preprocessed))\n",
        "vocab_size = len(all_word)\n",
        "\n",
        "print(vocab_size)"
      ]
    },
    {
      "cell_type": "code",
      "execution_count": 38,
      "id": "7b45007a-f418-402c-95a0-a0ad2838baa6",
      "metadata": {
        "id": "7b45007a-f418-402c-95a0-a0ad2838baa6"
      },
      "outputs": [],
      "source": [
        "vocab ={token:integer for integer,token in enumerate(all_word)}"
      ]
    },
    {
      "cell_type": "code",
      "execution_count": 39,
      "id": "c7a7636c-5cb8-48b0-8671-b716adbf278c",
      "metadata": {
        "colab": {
          "base_uri": "https://localhost:8080/"
        },
        "id": "c7a7636c-5cb8-48b0-8671-b716adbf278c",
        "outputId": "436ac821-6cf3-48a8-b43f-320b1e05771a"
      },
      "outputs": [
        {
          "output_type": "stream",
          "name": "stdout",
          "text": [
            "('!', 0)\n",
            "('\"', 1)\n",
            "(\"'\", 2)\n",
            "('(', 3)\n",
            "(')', 4)\n",
            "(',', 5)\n",
            "('--', 6)\n",
            "('.', 7)\n",
            "(':', 8)\n",
            "(';', 9)\n",
            "('?', 10)\n",
            "('A', 11)\n",
            "('Ah', 12)\n",
            "('Among', 13)\n",
            "('And', 14)\n",
            "('Are', 15)\n",
            "('Arrt', 16)\n",
            "('As', 17)\n",
            "('At', 18)\n",
            "('Be', 19)\n",
            "('Begin', 20)\n",
            "('Burlington', 21)\n",
            "('But', 22)\n",
            "('By', 23)\n",
            "('Carlo', 24)\n",
            "('Chicago', 25)\n",
            "('Claude', 26)\n",
            "('Come', 27)\n",
            "('Croft', 28)\n",
            "('Destroyed', 29)\n",
            "('Devonshire', 30)\n",
            "('Don', 31)\n",
            "('Dubarry', 32)\n",
            "('Emperors', 33)\n",
            "('Florence', 34)\n",
            "('For', 35)\n",
            "('Gallery', 36)\n",
            "('Gideon', 37)\n",
            "('Gisburn', 38)\n",
            "('Gisburns', 39)\n",
            "('Grafton', 40)\n",
            "('Greek', 41)\n",
            "('Grindle', 42)\n",
            "('Grindles', 43)\n",
            "('HAD', 44)\n",
            "('Had', 45)\n",
            "('Hang', 46)\n",
            "('Has', 47)\n",
            "('He', 48)\n",
            "('Her', 49)\n",
            "('Hermia', 50)\n"
          ]
        }
      ],
      "source": [
        "for i,item in enumerate(vocab.items()):\n",
        "    print(item)\n",
        "    if i>=50:\n",
        "        break"
      ]
    },
    {
      "cell_type": "markdown",
      "id": "7a0f4257-4014-473c-ba50-cf8b238951d0",
      "metadata": {
        "id": "7a0f4257-4014-473c-ba50-cf8b238951d0"
      },
      "source": [
        "### str_to_int use dictionary [vocab] to convert str to int and\n",
        "### int_to_str use reverse_dictionary to convert int to str"
      ]
    },
    {
      "cell_type": "code",
      "execution_count": 40,
      "id": "38d399fa-12d1-4df3-80b6-dfca5fb6ed0c",
      "metadata": {
        "id": "38d399fa-12d1-4df3-80b6-dfca5fb6ed0c"
      },
      "outputs": [],
      "source": [
        "class SimpleTokenizerV1:\n",
        "    def __init__(self, vocab):\n",
        "        self.str_to_int = vocab\n",
        "        self.int_to_str = {i:s for s,i in vocab.items()}\n",
        "\n",
        "    def encode(self, text):\n",
        "        preprocessed = re.split(r'([,.:;?_!\"()\\']|--|\\s)', text)\n",
        "        preprocessed = [item.strip() for item in preprocessed if item.strip()\n",
        "                       ]\n",
        "        ids = [self.str_to_int[s] for s in preprocessed]\n",
        "        return ids\n",
        "\n",
        "    def decode(self, ids):\n",
        "        text = \" \".join([self.int_to_str[i] for i in ids])\n",
        "        # Replace spaces before the specified punctuations\n",
        "        text = re.sub(r'\\s+([,.?!\"()\\'])', r'\\1', text)\n",
        "        return text"
      ]
    },
    {
      "cell_type": "code",
      "execution_count": 41,
      "id": "4c5fcaea-7d6c-4c21-a6b1-93a96520c326",
      "metadata": {
        "colab": {
          "base_uri": "https://localhost:8080/"
        },
        "id": "4c5fcaea-7d6c-4c21-a6b1-93a96520c326",
        "outputId": "9ae95490-a774-4404-aa5b-8b41cb76caa8"
      },
      "outputs": [
        {
          "output_type": "stream",
          "name": "stdout",
          "text": [
            "[1, 56, 2, 850, 988, 602, 533, 746, 5, 1126, 596, 5, 1, 67, 7, 38, 851, 1108, 754, 793, 7]\n"
          ]
        }
      ],
      "source": [
        "tokenizer = SimpleTokenizerV1(vocab)\n",
        "\n",
        "text = \"\"\"\"It's the last he painted, you know,\"\n",
        "            Mrs. Gisburn said with pardonable pride.\"\"\"\n",
        "ids = tokenizer.encode(text)\n",
        "print(ids)"
      ]
    },
    {
      "cell_type": "code",
      "execution_count": 42,
      "id": "a11f4cc5-3c77-4856-8f8b-b2ca7dcdce4a",
      "metadata": {
        "colab": {
          "base_uri": "https://localhost:8080/",
          "height": 54
        },
        "id": "a11f4cc5-3c77-4856-8f8b-b2ca7dcdce4a",
        "outputId": "ae47e208-7a3a-42ff-d541-f98d479732c1"
      },
      "outputs": [
        {
          "output_type": "execute_result",
          "data": {
            "text/plain": [
              "'\" It\\' s the last he painted, you know,\" Mrs. Gisburn said with pardonable pride.'"
            ],
            "application/vnd.google.colaboratory.intrinsic+json": {
              "type": "string"
            }
          },
          "metadata": {},
          "execution_count": 42
        }
      ],
      "source": [
        "tokenizer.decode(ids)"
      ]
    },
    {
      "cell_type": "code",
      "execution_count": 43,
      "id": "91e23737-7390-46c5-9529-b1519b641f7a",
      "metadata": {
        "id": "91e23737-7390-46c5-9529-b1519b641f7a"
      },
      "outputs": [],
      "source": [
        "# What if we use data which is not in story\n",
        "#text = \"Hello, do you like tea?\"\n",
        "#print(tokenizer.encode(text))"
      ]
    },
    {
      "cell_type": "markdown",
      "id": "daf908e9-c19b-434b-b4e2-1743b8ed79d8",
      "metadata": {
        "id": "daf908e9-c19b-434b-b4e2-1743b8ed79d8"
      },
      "source": [
        "### Dealing with Special Context Tokens\n",
        "We will modify the tokenizer to handel the unknowns words.\n",
        "### Unknown and end_of_text"
      ]
    },
    {
      "cell_type": "code",
      "execution_count": 44,
      "id": "16bd1d41-2125-4229-b8a5-161a8c674fd4",
      "metadata": {
        "id": "16bd1d41-2125-4229-b8a5-161a8c674fd4"
      },
      "outputs": [],
      "source": [
        "all_tokens = sorted(list(set(preprocessed)))\n",
        "all_tokens.extend([\"<|endoftext|>\", \"<|unk|>\"])\n",
        "\n",
        "vocab = {token:integer for integer,token in enumerate(all_tokens)}"
      ]
    },
    {
      "cell_type": "code",
      "execution_count": 45,
      "id": "3f113b9f-2e7f-4b92-ba5c-6e8e9446a575",
      "metadata": {
        "colab": {
          "base_uri": "https://localhost:8080/"
        },
        "id": "3f113b9f-2e7f-4b92-ba5c-6e8e9446a575",
        "outputId": "75d65eec-bed5-42c6-d89e-4d39e0e76581"
      },
      "outputs": [
        {
          "output_type": "execute_result",
          "data": {
            "text/plain": [
              "1132"
            ]
          },
          "metadata": {},
          "execution_count": 45
        }
      ],
      "source": [
        "len(vocab.items())"
      ]
    },
    {
      "cell_type": "code",
      "execution_count": 46,
      "id": "1f71d72c-63a3-437f-8b83-2469c369c0e2",
      "metadata": {
        "colab": {
          "base_uri": "https://localhost:8080/"
        },
        "id": "1f71d72c-63a3-437f-8b83-2469c369c0e2",
        "outputId": "79ecc188-06c9-4ca1-9ae0-0836df4c3a46"
      },
      "outputs": [
        {
          "output_type": "stream",
          "name": "stdout",
          "text": [
            "('younger', 1127)\n",
            "('your', 1128)\n",
            "('yourself', 1129)\n",
            "('<|endoftext|>', 1130)\n",
            "('<|unk|>', 1131)\n"
          ]
        }
      ],
      "source": [
        " for i,item in enumerate(list(vocab.items())[-5:]):\n",
        "     print(item)"
      ]
    },
    {
      "cell_type": "code",
      "execution_count": 47,
      "id": "9f1f272c-56a8-4cf1-ad7b-5d16b9ec0be0",
      "metadata": {
        "id": "9f1f272c-56a8-4cf1-ad7b-5d16b9ec0be0"
      },
      "outputs": [],
      "source": [
        "class SimpleTokenizerV2:\n",
        "\n",
        "    def __init__(self, vocab):\n",
        "        self.str_to_int = vocab\n",
        "        self.int_to_str = { i:s for s,i in vocab.items()}\n",
        "\n",
        "    def encode(self, text):\n",
        "        preprocessed = re.split(r'([,.?!:;_\"()\\']|--|\\s)', text)\n",
        "        preprocessed = [item.strip() for item in preprocessed if item.strip()]\n",
        "        preprocessed = [item if item in self.str_to_int\n",
        "                       else \"<|unk|>\" for item in preprocessed]\n",
        "        ids = [self.str_to_int[s] for s in preprocessed]\n",
        "        return ids\n",
        "\n",
        "    def decode(self, ids):\n",
        "        text = \" \".join([self.int_to_str[i] for i in ids])\n",
        "        text = re.sub(r'\\s+([,.:;?!\"()\\'])', r'\\1', text)\n",
        "        return text"
      ]
    },
    {
      "cell_type": "code",
      "execution_count": 48,
      "id": "095e2199-4425-4409-90b2-fd4fe7dc27e6",
      "metadata": {
        "colab": {
          "base_uri": "https://localhost:8080/"
        },
        "id": "095e2199-4425-4409-90b2-fd4fe7dc27e6",
        "outputId": "999b29ea-f901-466c-bf17-082289a7dba7"
      },
      "outputs": [
        {
          "output_type": "stream",
          "name": "stdout",
          "text": [
            "Hello, do you like tea? <|endoftext|> In the sunlit terraces of the palace.\n"
          ]
        }
      ],
      "source": [
        "tokenizer = SimpleTokenizerV2(vocab)\n",
        "\n",
        "text1 = \"Hello, do you like tea?\"\n",
        "text2 = \"In the sunlit terraces of the palace.\"\n",
        "\n",
        "text = \" <|endoftext|> \".join((text1, text2))\n",
        "print(text)"
      ]
    },
    {
      "cell_type": "code",
      "execution_count": 49,
      "id": "214353d2-c578-4e4d-9526-1f04479eb381",
      "metadata": {
        "colab": {
          "base_uri": "https://localhost:8080/"
        },
        "id": "214353d2-c578-4e4d-9526-1f04479eb381",
        "outputId": "c51958a0-1785-4ec2-cdfc-cbb807d81be5"
      },
      "outputs": [
        {
          "output_type": "execute_result",
          "data": {
            "text/plain": [
              "[1131, 5, 355, 1126, 628, 975, 10, 1130, 55, 988, 956, 984, 722, 988, 1131, 7]"
            ]
          },
          "metadata": {},
          "execution_count": 49
        }
      ],
      "source": [
        "tokenizer.encode(text)"
      ]
    },
    {
      "cell_type": "code",
      "execution_count": 50,
      "id": "42f7bf02-9fb3-40e4-8a6e-5cd2720cf60e",
      "metadata": {
        "colab": {
          "base_uri": "https://localhost:8080/",
          "height": 54
        },
        "id": "42f7bf02-9fb3-40e4-8a6e-5cd2720cf60e",
        "outputId": "df336e78-4d76-4213-9c84-cbeafaa5673b"
      },
      "outputs": [
        {
          "output_type": "execute_result",
          "data": {
            "text/plain": [
              "'<|unk|>, do you like tea? <|endoftext|> In the sunlit terraces of the <|unk|>.'"
            ],
            "application/vnd.google.colaboratory.intrinsic+json": {
              "type": "string"
            }
          },
          "metadata": {},
          "execution_count": 50
        }
      ],
      "source": [
        "tokenizer.decode(tokenizer.encode(text))"
      ]
    },
    {
      "cell_type": "markdown",
      "id": "cc2e6cc9-4f91-4d19-b411-157f28c6b14f",
      "metadata": {
        "id": "cc2e6cc9-4f91-4d19-b411-157f28c6b14f"
      },
      "source": [
        "## There are also other tokens such as the following\n",
        "### [BOS] (beginning of sequence):\n",
        "The token mark the start of a text.\n",
        "### [EOS] (end of sequence):\n",
        "The token is positioned at the end of a text.\n",
        "### [PAD] (padding):\n",
        "while training LLMs with batch size larger than one the batch might contain texts of varying lengths."
      ]
    },
    {
      "cell_type": "markdown",
      "id": "90e3000b-c950-4dac-bbfb-400309dc16db",
      "metadata": {
        "id": "90e3000b-c950-4dac-bbfb-400309dc16db"
      },
      "source": [
        "## BYTE PAIR ENCODING (BPE)\n",
        "In GPT model they don't use unknown they use BYTE PAIR ENCODING, in which the words are broken into subwords and these subwords will become tokens."
      ]
    },
    {
      "cell_type": "markdown",
      "source": [
        "## Tokenizers Types\n",
        "1. Word based tokenizer ['My','name','snehal'] Problem-OOV words.\n",
        "2. Character based tokenizer ['M','y','n','a','m','e','S','n','e','h','a','l'] No OOV words problem, meaning will be lost , too many tokens\n",
        "3. Sub word based tokenizer\n",
        "   ### Rules -\n",
        "   1. Do not split frequentlu used words into smaller subwords.\n",
        "   2. Split the rare word into smaller meaningful subwords.\n",
        "      \n",
        "      eg - \"boy\" should not be split\n",
        "           \"boys\" should be split into \"boy\" and \"s\"\n",
        "\n",
        "BYTE PAIR ALGO IS ALSO A SUB WORD TOKENIZER\n",
        "   "
      ],
      "metadata": {
        "id": "73005048-33af-4d9b-94fb-93a33d9d0140"
      },
      "id": "73005048-33af-4d9b-94fb-93a33d9d0140"
    },
    {
      "cell_type": "code",
      "source": [
        "import importlib\n",
        "import tiktoken\n",
        "\n",
        "print(\"tiktoken version: \", importlib.metadata.version(\"tiktoken\"))"
      ],
      "metadata": {
        "colab": {
          "base_uri": "https://localhost:8080/"
        },
        "id": "dgZr67ly3uhh",
        "outputId": "9e2db15a-9698-43be-9cbd-d02a79b15a34"
      },
      "id": "dgZr67ly3uhh",
      "execution_count": 51,
      "outputs": [
        {
          "output_type": "stream",
          "name": "stdout",
          "text": [
            "tiktoken version:  0.9.0\n"
          ]
        }
      ]
    },
    {
      "cell_type": "code",
      "source": [
        "tokenizer = tiktoken.get_encoding(\"gpt2\")"
      ],
      "metadata": {
        "id": "UYTplW7v3w2b"
      },
      "id": "UYTplW7v3w2b",
      "execution_count": 52,
      "outputs": []
    },
    {
      "cell_type": "code",
      "source": [
        "text = (\n",
        "    \"Hello do you know me? <|endoftext|> I don't knowyou.\"\n",
        ")\n",
        "integers = tokenizer.encode(text, allowed_special={\"<|endoftext|>\"})\n",
        "print(integers)"
      ],
      "metadata": {
        "colab": {
          "base_uri": "https://localhost:8080/"
        },
        "id": "yNw5AsK_30VY",
        "outputId": "dcb72c6c-6383-4151-89d6-27821068683f"
      },
      "id": "yNw5AsK_30VY",
      "execution_count": 53,
      "outputs": [
        {
          "output_type": "stream",
          "name": "stdout",
          "text": [
            "[15496, 466, 345, 760, 502, 30, 220, 50256, 314, 836, 470, 760, 5832, 13]\n"
          ]
        }
      ]
    },
    {
      "cell_type": "code",
      "source": [
        "strings = tokenizer.decode(integers)\n",
        "print(strings)"
      ],
      "metadata": {
        "colab": {
          "base_uri": "https://localhost:8080/"
        },
        "id": "sDKuHUol31mL",
        "outputId": "c2307d1e-afff-4ccd-b62c-b04f062292a1"
      },
      "id": "sDKuHUol31mL",
      "execution_count": 54,
      "outputs": [
        {
          "output_type": "stream",
          "name": "stdout",
          "text": [
            "Hello do you know me? <|endoftext|> I don't knowyou.\n"
          ]
        }
      ]
    },
    {
      "cell_type": "code",
      "source": [
        "integers = tokenizer.encode(\"Akwifns dfs\")\n",
        "print(integers)\n",
        "\n",
        "strings = tokenizer.decode(integers)\n",
        "print(strings)"
      ],
      "metadata": {
        "colab": {
          "base_uri": "https://localhost:8080/"
        },
        "id": "Dm1oYRlS33Ew",
        "outputId": "334cea20-679a-4af1-eb40-a4b7078f5894"
      },
      "id": "Dm1oYRlS33Ew",
      "execution_count": 55,
      "outputs": [
        {
          "output_type": "stream",
          "name": "stdout",
          "text": [
            "[33901, 86, 361, 5907, 288, 9501]\n",
            "Akwifns dfs\n"
          ]
        }
      ]
    },
    {
      "cell_type": "code",
      "source": [
        "integers = tokenizer.encode(\"Megamasterfull world with no meaning have zero sense\")\n",
        "print(integers)\n",
        "\n",
        "strings = tokenizer.decode(integers)\n",
        "print(strings)"
      ],
      "metadata": {
        "colab": {
          "base_uri": "https://localhost:8080/"
        },
        "id": "_89jfpP634rv",
        "outputId": "ae0108fa-f991-4dec-9517-549179e233f6"
      },
      "id": "_89jfpP634rv",
      "execution_count": 56,
      "outputs": [
        {
          "output_type": "stream",
          "name": "stdout",
          "text": [
            "[42672, 321, 1603, 12853, 995, 351, 645, 3616, 423, 6632, 2565]\n",
            "Megamasterfull world with no meaning have zero sense\n"
          ]
        }
      ]
    },
    {
      "cell_type": "markdown",
      "source": [
        "## Creating Input - Target pairs\n",
        "Autoregresive"
      ],
      "metadata": {
        "id": "nLZEQ4rc36Nh"
      },
      "id": "nLZEQ4rc36Nh"
    },
    {
      "cell_type": "code",
      "source": [
        "with open(\"the-verdict.txt\",\"r\", encoding=\"utf-8\") as f:\n",
        "    raw_text = f.read()\n",
        "\n",
        "enc_text = tokenizer.encode(raw_text)\n",
        "print(len(enc_text))"
      ],
      "metadata": {
        "colab": {
          "base_uri": "https://localhost:8080/"
        },
        "id": "UtZT9WAw38lD",
        "outputId": "907d822f-9522-495d-eb76-d6712443cbd5"
      },
      "id": "UtZT9WAw38lD",
      "execution_count": 57,
      "outputs": [
        {
          "output_type": "stream",
          "name": "stdout",
          "text": [
            "5145\n"
          ]
        }
      ]
    },
    {
      "cell_type": "code",
      "source": [
        "enc_sample = enc_text[50:]"
      ],
      "metadata": {
        "id": "DMRbhM6I39mr"
      },
      "id": "DMRbhM6I39mr",
      "execution_count": 58,
      "outputs": []
    },
    {
      "cell_type": "code",
      "source": [
        "context_size = 4\n",
        "\n",
        "x = enc_sample[:context_size]\n",
        "y = enc_sample[1:context_size+1]\n",
        "print(f\"x: {x}\")\n",
        "print(f\"y: {y}\")"
      ],
      "metadata": {
        "colab": {
          "base_uri": "https://localhost:8080/"
        },
        "id": "9MeE01mE4oO3",
        "outputId": "01af0fd3-cadd-489e-8e12-cde874912c39"
      },
      "id": "9MeE01mE4oO3",
      "execution_count": 59,
      "outputs": [
        {
          "output_type": "stream",
          "name": "stdout",
          "text": [
            "x: [290, 4920, 2241, 287]\n",
            "y: [4920, 2241, 287, 257]\n"
          ]
        }
      ]
    },
    {
      "cell_type": "code",
      "source": [
        "for i in range(1, context_size+1):\n",
        "    context = enc_sample[:i]\n",
        "    desired = enc_sample[i]\n",
        "\n",
        "    print(context,\"--->\",desired)"
      ],
      "metadata": {
        "colab": {
          "base_uri": "https://localhost:8080/"
        },
        "id": "eJZShmJ74o_T",
        "outputId": "df80a2b6-0f38-4162-e1b0-bffc2d4cecaf"
      },
      "id": "eJZShmJ74o_T",
      "execution_count": 60,
      "outputs": [
        {
          "output_type": "stream",
          "name": "stdout",
          "text": [
            "[290] ---> 4920\n",
            "[290, 4920] ---> 2241\n",
            "[290, 4920, 2241] ---> 287\n",
            "[290, 4920, 2241, 287] ---> 257\n"
          ]
        }
      ]
    },
    {
      "cell_type": "markdown",
      "source": [
        "Everything left of the arrow (--->) refers to the input an LLM would receive, and the tokenID on the right side of the arrow is the target ID that the LLM will predict"
      ],
      "metadata": {
        "id": "xf0pQvBc4qx5"
      },
      "id": "xf0pQvBc4qx5"
    },
    {
      "cell_type": "code",
      "source": [
        "for i in range(1, context_size+1):\n",
        "    context = enc_sample[:i]\n",
        "    desired = enc_sample[i]\n",
        "\n",
        "    print(tokenizer.decode(context),\"--->\",tokenizer.decode([desired]))"
      ],
      "metadata": {
        "colab": {
          "base_uri": "https://localhost:8080/"
        },
        "id": "FFar30oh4t9W",
        "outputId": "15589554-e7d5-4243-9280-888e15729233"
      },
      "id": "FFar30oh4t9W",
      "execution_count": 61,
      "outputs": [
        {
          "output_type": "stream",
          "name": "stdout",
          "text": [
            " and --->  established\n",
            " and established --->  himself\n",
            " and established himself --->  in\n",
            " and established himself in --->  a\n"
          ]
        }
      ]
    },
    {
      "cell_type": "markdown",
      "source": [
        "We have to create two tensors one input tensors and one output tensors\n",
        "### Dataset and DataLoader"
      ],
      "metadata": {
        "id": "REZOLtym4vDw"
      },
      "id": "REZOLtym4vDw"
    },
    {
      "cell_type": "code",
      "source": [
        "import torch\n",
        "from torch.utils.data import Dataset, DataLoader\n",
        "\n",
        "class GPTDatasetV1(Dataset):\n",
        "    def __init__(self, txt, tokenizer, max_length, stride):\n",
        "        self.input_ids = []\n",
        "        self.target_ids = []\n",
        "\n",
        "        token_ids = tokenizer.encode(txt, allowed_special={\"<|endoftext|>\"})\n",
        "\n",
        "        for i in range(0, len(token_ids) - max_length, stride):\n",
        "            input_chunk = token_ids[i:i + max_length]\n",
        "            target_chunk = token_ids[i + 1:i + max_length + 1]\n",
        "            self.input_ids.append(torch.tensor(input_chunk))\n",
        "            self.target_ids.append(torch.tensor(target_chunk))\n",
        "\n",
        "    def __len__(self):\n",
        "        return len(self.input_ids)\n",
        "\n",
        "    def __getitem__(self, idx):\n",
        "        return self.input_ids[idx], self.target_ids[idx]"
      ],
      "metadata": {
        "id": "g02TKOhM4xCL"
      },
      "id": "g02TKOhM4xCL",
      "execution_count": 62,
      "outputs": []
    },
    {
      "cell_type": "code",
      "source": [
        "def create_dataloader_v1(txt, batch_size=4, max_length=256,\n",
        "                        stride=128, shuffle=True, drop_last=True,\n",
        "                        num_workers=0):\n",
        "\n",
        "    tokenizer = tiktoken.get_encoding(\"gpt2\")\n",
        "    dataset = GPTDatasetV1(txt, tokenizer, max_length, stride)\n",
        "\n",
        "    dataloader = DataLoader(\n",
        "        dataset,\n",
        "        batch_size=batch_size,\n",
        "        shuffle=shuffle,\n",
        "        drop_last=drop_last,\n",
        "        num_workers=num_workers\n",
        "    )\n",
        "    return dataloader"
      ],
      "metadata": {
        "id": "T7SzLwR_4zfZ"
      },
      "id": "T7SzLwR_4zfZ",
      "execution_count": 63,
      "outputs": []
    },
    {
      "cell_type": "code",
      "source": [
        "with open(\"the-verdict.txt\", \"r\", encoding=\"utf-8\") as f:\n",
        "    raw_text = f.read()"
      ],
      "metadata": {
        "id": "GS3DSbqF403A"
      },
      "id": "GS3DSbqF403A",
      "execution_count": 64,
      "outputs": []
    },
    {
      "cell_type": "code",
      "source": [
        "print(\"PyTorch version:\", torch.__version__)\n",
        "dataloader = create_dataloader_v1(\n",
        "    raw_text, batch_size=1, max_length=4, stride=1, shuffle=False\n",
        ")\n",
        "\n",
        "data_iter = iter(dataloader)\n",
        "first_batch = next(data_iter)\n",
        "print(first_batch)"
      ],
      "metadata": {
        "colab": {
          "base_uri": "https://localhost:8080/"
        },
        "id": "N9xzaohB42a6",
        "outputId": "6da0d809-be14-47c0-e18a-02c04bf8b9aa"
      },
      "id": "N9xzaohB42a6",
      "execution_count": 65,
      "outputs": [
        {
          "output_type": "stream",
          "name": "stdout",
          "text": [
            "PyTorch version: 2.6.0+cu124\n",
            "[tensor([[  40,  367, 2885, 1464]]), tensor([[ 367, 2885, 1464, 1807]])]\n"
          ]
        }
      ]
    },
    {
      "cell_type": "code",
      "source": [
        "second_batch = next(data_iter)\n",
        "print(second_batch)"
      ],
      "metadata": {
        "colab": {
          "base_uri": "https://localhost:8080/"
        },
        "id": "ZOnkLPpo43xW",
        "outputId": "3a74fafc-c776-4df3-c657-bb8daa9274e4"
      },
      "id": "ZOnkLPpo43xW",
      "execution_count": 66,
      "outputs": [
        {
          "output_type": "stream",
          "name": "stdout",
          "text": [
            "[tensor([[ 367, 2885, 1464, 1807]]), tensor([[2885, 1464, 1807, 3619]])]\n"
          ]
        }
      ]
    },
    {
      "cell_type": "markdown",
      "source": [
        "## CREATING TOKEN EMBEDDINGS"
      ],
      "metadata": {
        "id": "ZTyv2Sio45oS"
      },
      "id": "ZTyv2Sio45oS"
    },
    {
      "cell_type": "code",
      "source": [
        "input_ids = torch.tensor([2, 3, 5, 1])"
      ],
      "metadata": {
        "id": "MUiayPomTnEP"
      },
      "id": "MUiayPomTnEP",
      "execution_count": 67,
      "outputs": []
    },
    {
      "cell_type": "markdown",
      "source": [
        "### We are using the embedding size of 3"
      ],
      "metadata": {
        "id": "zUk3ElJpT5H8"
      },
      "id": "zUk3ElJpT5H8"
    },
    {
      "cell_type": "code",
      "source": [
        "vocab_size = 6\n",
        "output_dim = 3\n",
        "\n",
        "torch.manual_seed(123)\n",
        "embedding_layer = torch.nn.Embedding(vocab_size, output_dim)"
      ],
      "metadata": {
        "id": "qCEi_9XZTxJr"
      },
      "id": "qCEi_9XZTxJr",
      "execution_count": 68,
      "outputs": []
    },
    {
      "cell_type": "code",
      "source": [
        "print(embedding_layer.weight)"
      ],
      "metadata": {
        "colab": {
          "base_uri": "https://localhost:8080/"
        },
        "id": "8XnWnTUEWGFJ",
        "outputId": "bc6e8a3e-9f39-4ab8-8138-981b58f289b8"
      },
      "id": "8XnWnTUEWGFJ",
      "execution_count": 69,
      "outputs": [
        {
          "output_type": "stream",
          "name": "stdout",
          "text": [
            "Parameter containing:\n",
            "tensor([[ 0.3374, -0.1778, -0.1690],\n",
            "        [ 0.9178,  1.5810,  1.3010],\n",
            "        [ 1.2753, -0.2010, -0.1606],\n",
            "        [-0.4015,  0.9666, -1.1481],\n",
            "        [-1.1589,  0.3255, -0.6315],\n",
            "        [-2.8400, -0.7849, -1.4096]], requires_grad=True)\n"
          ]
        }
      ]
    },
    {
      "cell_type": "markdown",
      "source": [
        "### These weights are random they are normalized during LLM training"
      ],
      "metadata": {
        "id": "hK9Gy3KeaCEt"
      },
      "id": "hK9Gy3KeaCEt"
    },
    {
      "cell_type": "code",
      "source": [
        "print(embedding_layer(torch.tensor([3])))"
      ],
      "metadata": {
        "colab": {
          "base_uri": "https://localhost:8080/"
        },
        "id": "vorCOS5oaQ56",
        "outputId": "67eb0684-f54d-4247-cc35-9b4aa8b06043"
      },
      "id": "vorCOS5oaQ56",
      "execution_count": 70,
      "outputs": [
        {
          "output_type": "stream",
          "name": "stdout",
          "text": [
            "tensor([[-0.4015,  0.9666, -1.1481]], grad_fn=<EmbeddingBackward0>)\n"
          ]
        }
      ]
    },
    {
      "cell_type": "code",
      "source": [
        "print(embedding_layer(input_ids))"
      ],
      "metadata": {
        "colab": {
          "base_uri": "https://localhost:8080/"
        },
        "id": "eG3cF_dCaqFq",
        "outputId": "c4203176-aab9-44ea-9e21-55359a0a144d"
      },
      "id": "eG3cF_dCaqFq",
      "execution_count": 71,
      "outputs": [
        {
          "output_type": "stream",
          "name": "stdout",
          "text": [
            "tensor([[ 1.2753, -0.2010, -0.1606],\n",
            "        [-0.4015,  0.9666, -1.1481],\n",
            "        [-2.8400, -0.7849, -1.4096],\n",
            "        [ 0.9178,  1.5810,  1.3010]], grad_fn=<EmbeddingBackward0>)\n"
          ]
        }
      ]
    },
    {
      "cell_type": "code",
      "source": [
        "tdx = torch.tensor([2, 3, 1])"
      ],
      "metadata": {
        "id": "YKIp5ZxWn2ko"
      },
      "id": "YKIp5ZxWn2ko",
      "execution_count": 73,
      "outputs": []
    },
    {
      "cell_type": "code",
      "source": [
        "vocab_size = 4\n",
        "output_dim = 5\n",
        "torch.manual_seed(123)\n",
        "embedding_layer = torch.nn.Embedding(vocab_size, output_dim)"
      ],
      "metadata": {
        "id": "RwaPx2BopNYu"
      },
      "id": "RwaPx2BopNYu",
      "execution_count": 75,
      "outputs": []
    },
    {
      "cell_type": "code",
      "source": [
        "print(embedding_layer.weight)"
      ],
      "metadata": {
        "colab": {
          "base_uri": "https://localhost:8080/"
        },
        "id": "zGJ-VPPcqTVQ",
        "outputId": "e08b634d-8683-44a5-f6fb-3b9198a3bd00"
      },
      "id": "zGJ-VPPcqTVQ",
      "execution_count": 80,
      "outputs": [
        {
          "output_type": "stream",
          "name": "stdout",
          "text": [
            "Parameter containing:\n",
            "tensor([[ 0.3374, -0.1778, -0.3035, -0.5880,  1.5810],\n",
            "        [ 1.3010,  1.2753, -0.2010, -0.1606, -0.4015],\n",
            "        [ 0.6957, -1.8061, -1.1589,  0.3255, -0.6315],\n",
            "        [-2.8400, -0.7849, -1.4096, -0.4076,  0.7953]], requires_grad=True)\n"
          ]
        }
      ]
    },
    {
      "cell_type": "code",
      "source": [
        "print(embedding_layer(tdx))"
      ],
      "metadata": {
        "id": "3f3SUELTq1pX",
        "outputId": "eef35d93-32e7-40bf-bb5b-ffd027578481",
        "colab": {
          "base_uri": "https://localhost:8080/"
        }
      },
      "id": "3f3SUELTq1pX",
      "execution_count": 82,
      "outputs": [
        {
          "output_type": "stream",
          "name": "stdout",
          "text": [
            "tensor([[ 0.6957, -1.8061, -1.1589,  0.3255, -0.6315],\n",
            "        [-2.8400, -0.7849, -1.4096, -0.4076,  0.7953],\n",
            "        [ 1.3010,  1.2753, -0.2010, -0.1606, -0.4015]],\n",
            "       grad_fn=<EmbeddingBackward0>)\n"
          ]
        }
      ]
    },
    {
      "cell_type": "code",
      "source": [],
      "metadata": {
        "id": "DtrgCxHXrFVY"
      },
      "id": "DtrgCxHXrFVY",
      "execution_count": null,
      "outputs": []
    }
  ],
  "metadata": {
    "kernelspec": {
      "display_name": "Python 3",
      "name": "python3"
    },
    "language_info": {
      "codemirror_mode": {
        "name": "ipython",
        "version": 3
      },
      "file_extension": ".py",
      "mimetype": "text/x-python",
      "name": "python",
      "nbconvert_exporter": "python",
      "pygments_lexer": "ipython3",
      "version": "3.12.4"
    },
    "colab": {
      "provenance": [],
      "gpuType": "T4"
    },
    "accelerator": "GPU"
  },
  "nbformat": 4,
  "nbformat_minor": 5
}